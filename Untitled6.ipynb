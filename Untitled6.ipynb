{
 "cells": [
  {
   "cell_type": "code",
   "execution_count": null,
   "id": "e9019e68-6711-4a49-90a7-6b8b4e397181",
   "metadata": {},
   "outputs": [],
   "source": [
    "1. Import Necessary Libraries\n",
    "import pandas as pd\n",
    "import numpy as np\n",
    "import matplotlib.pyplot as plt\n",
    "import seaborn as sns\n",
    "from sklearn.model_selection import train_test_split, GridSearchCV\n",
    "from sklearn.preprocessing import LabelEncoder\n",
    "from sklearn.ensemble import RandomForestClassifier\n",
    "from sklearn.linear_model import LogisticRegression\n",
    "from sklearn.metrics import classification_report, confusion_matrix, accuracy_score\n",
    "from imblearn.over_sampling import SMOTE  # SMOTE for resampling\n",
    "from xgboost import XGBClassifier\n",
    "import lightgbm as lgb\n",
    "from sklearn.calibration import CalibratedClassifierCV"
   ]
  },
  {
   "cell_type": "code",
   "execution_count": null,
   "id": "bafb01f3-7632-484f-b9dc-bb1fbb5ecb61",
   "metadata": {},
   "outputs": [],
   "source": [
    "2. Load the Dataset\n",
    "The dataset is loaded from a CSV file. The dataset contains information about customers, including features such as demographics, service usage, and \n",
    "whether the customer churned."
   ]
  },
  {
   "cell_type": "code",
   "execution_count": null,
   "id": "2cf472ba-d501-45fc-a82e-d98ecf433cda",
   "metadata": {},
   "outputs": [],
   "source": [
    "3. Data Exploration\n",
    "# Data Exploration\n",
    "print(\"Dataset Shape:\", df.shape)\n",
    "print(\"Dataset Info:\")\n",
    "df.info()\n",
    "Dataset Shape: (7043, 21)\n",
    "Dataset Info:\n",
    "<class 'pandas.core.frame.DataFrame'>\n",
    "RangeIndex: 7043 entries, 0 to 7042\n",
    "Data columns (total 21 columns):\n",
    " #   Column            Non-Null Count  Dtype  \n",
    "---  ------            --------------  -----  \n",
    " 0   customerID        7043 non-null   object \n",
    " 1   gender            7043 non-null   object \n",
    " 2   SeniorCitizen     7043 non-null   int64  \n",
    " 3   Partner           7043 non-null   object \n",
    " 4   Dependents        7043 non-null   object \n",
    " 5   tenure            7043 non-null   int64  \n",
    " 6   PhoneService      7043 non-null   object \n",
    " 7   MultipleLines     7043 non-null   object \n",
    " 8   InternetService   7043 non-null   object \n",
    " 9   OnlineSecurity    7043 non-null   object \n",
    " 10  OnlineBackup      7043 non-null   object \n",
    " 11  DeviceProtection  7043 non-null   object \n",
    " 12  TechSupport       7043 non-null   object \n",
    " 13  StreamingTV       7043 non-null   object \n",
    " 14  StreamingMovies   7043 non-null   object \n",
    " 15  Contract          7043 non-null   object \n",
    " 16  PaperlessBilling  7043 non-null   object \n",
    " 17  PaymentMethod     7043 non-null   object \n",
    " 18  MonthlyCharges    7043 non-null   float64\n",
    " 19  TotalCharges      7032 non-null   float64\n",
    " 20  Churn             7043 non-null   object \n",
    "dtypes: float64(2), int64(2), object(17)\n",
    "memory usage: 1.1+ MB"
   ]
  },
  {
   "cell_type": "code",
   "execution_count": null,
   "id": "181fb306-aea4-4aa6-bb50-e13abcabca82",
   "metadata": {},
   "outputs": [],
   "source": [
    "4. Check for Missing Values\n",
    "# Checking for missing values\n",
    "print(\"Missing values:\")\n",
    "print(df.isnull().sum())\n",
    "\n",
    "Missing values:\n",
    "customerID           0\n",
    "gender               0\n",
    "SeniorCitizen        0\n",
    "Partner              0\n",
    "Dependents           0\n",
    "tenure               0\n",
    "PhoneService         0\n",
    "MultipleLines        0\n",
    "InternetService      0\n",
    "OnlineSecurity       0\n",
    "OnlineBackup         0\n",
    "DeviceProtection     0\n",
    "TechSupport          0\n",
    "StreamingTV          0\n",
    "StreamingMovies      0\n",
    "Contract             0\n",
    "PaperlessBilling     0\n",
    "PaymentMethod        0\n",
    "MonthlyCharges       0\n",
    "TotalCharges        11\n",
    "Churn                0\n",
    "dtype: int64"
   ]
  },
  {
   "cell_type": "code",
   "execution_count": null,
   "id": "c01f24f4-c143-4118-a439-4ed0f6be9324",
   "metadata": {},
   "outputs": [],
   "source": [
    "5. Handle Missing Values\n",
    "# Handle missing values (if any)\n",
    "df['TotalCharges'] = pd.to_numeric(df['TotalCharges'], errors='coerce')\n",
    "df['TotalCharges'] = df['TotalCharges'].fillna(df['TotalCharges'].median())  # Fix chained assignment warning"
   ]
  },
  {
   "cell_type": "code",
   "execution_count": null,
   "id": "d9ca3953-5184-4bf4-8a50-ace3fd53fb5f",
   "metadata": {},
   "outputs": [],
   "source": [
    "6. Convert Categorical Columns to Numeric\n",
    "# Convert categorical columns to numerical ones\n",
    "binary_columns = ['SeniorCitizen', 'Partner', 'Dependents', 'PhoneService', 'MultipleLines', 'OnlineSecurity', 'OnlineBackup', 'DeviceProtection', 'TechSupport', 'StreamingTV', 'StreamingMovies', 'PaperlessBilling', 'Churn']\n",
    "for col in binary_columns:\n",
    "    df[col] = df[col].apply(lambda x: 1 if x == 'Yes' else 0)"
   ]
  },
  {
   "cell_type": "code",
   "execution_count": null,
   "id": "c721c12c-2fc3-41bd-a4ff-fb49dac5a06e",
   "metadata": {},
   "outputs": [],
   "source": [
    "7. One-Hot Encoding for Non-Binary Categorical Variables\n",
    "                   # One-hot encoding for non-binary categorical variables\n",
    "df = pd.get_dummies(df, columns=['gender', 'InternetService', 'Contract', 'PaymentMethod'], drop_first=True)\n",
    "                   "
   ]
  },
  {
   "cell_type": "code",
   "execution_count": null,
   "id": "447f6e52-82e7-4ba6-868a-2ddaafc2ac85",
   "metadata": {},
   "outputs": [],
   "source": [
    "8. Split Data into Features and Target\n",
    "# Split data into features (X) and target (y)\n",
    "X = df.drop(columns=['customerID', 'Churn'])\n",
    "y = df['Churn']"
   ]
  },
  {
   "cell_type": "code",
   "execution_count": null,
   "id": "3e57631e-5378-49a4-9f6c-95723d99df9a",
   "metadata": {},
   "outputs": [],
   "source": [
    "9. Train-Test Split\n",
    "# Visualize the class distribution before SMOTE\n",
    "plt.figure(figsize=(6, 4))\n",
    "sns.countplot(x=y_train)\n",
    "plt.title('Class Distribution Before SMOTE')\n",
    "plt.show()"
   ]
  },
  {
   "cell_type": "code",
   "execution_count": null,
   "id": "5ce24488-f1b2-4350-a34d-5171e12653d5",
   "metadata": {},
   "outputs": [],
   "source": [
    "10. Handle Class Imbalance: Apply SMOTE\n",
    "# Handle class imbalance: Apply SMOTE for oversampling the minority class\n",
    "smote = SMOTE(random_state=42)\n",
    "X_train_resampled, y_train_resampled = smote.fit_resample(X_train, y_train)"
   ]
  },
  {
   "cell_type": "code",
   "execution_count": null,
   "id": "74139481-f14c-42e1-911b-b4c1fff3dac4",
   "metadata": {},
   "outputs": [],
   "source": [
    "11. Define Models\n",
    "# Define the models\n",
    "models = {\n",
    "    'Random Forest': RandomForestClassifier(class_weight='balanced', random_state=42),\n",
    "    'Logistic Regression': LogisticRegression(class_weight='balanced', random_state=42),\n",
    "    'XGBoost': XGBClassifier(scale_pos_weight=len(y_train_resampled) / sum(y_train_resampled == 0), random_state=42),\n",
    "    'LightGBM': lgb.LGBMClassifier(class_weight='balanced', random_state=42)"
   ]
  },
  {
   "cell_type": "code",
   "execution_count": null,
   "id": "f10932d2-0cee-4d85-8de4-4b31a3aabdc9",
   "metadata": {},
   "outputs": [],
   "source": [
    "16. Train the Best Models\n",
    "# Use the best models\n",
    "best_rf = grid_search_rf.best_estimator_\n",
    "best_logreg = grid_search_logreg.best_estimator_\n",
    "best_xgb = grid_search_xgb.best_estimator_\n",
    "best_lgb = grid_search_lgb.best_estimator_\n",
    "\n",
    "# Train the models\n",
    "best_rf.fit(X_train_resampled, y_train_resampled)\n",
    "best_logreg.fit(X_train_resampled, y_train_resampled)\n",
    "best_xgb.fit(X_train_resampled, y_train_resampled)\n",
    "best_lgb.fit(X_train_resampled, y_train_resampled)"
   ]
  },
  {
   "cell_type": "code",
   "execution_count": null,
   "id": "49bd52ff-8ead-4e1b-905d-59db06e60fd4",
   "metadata": {},
   "outputs": [],
   "source": [
    "Visualization of confusion matrix\n",
    " print(\"Accuracy Score:\", accuracy_score(y_test, y_pred))\n",
    "    print(\"Classification Report:\\n\", classification_report(y_test, y_pred))\n",
    "    print(\"Confusion Matrix:\\n\", cm)\n",
    "for model_name, model in models_calibrated.items():\n",
    "    print(f\"\\nEvaluating {model_name}...\")\n",
    "    y_pred = model.predict(X_test)\n",
    "     # Confusion matrix\n",
    "    cm = confusion_matrix(y_test, y_pred)\n",
    "    plt.figure(figsize=(6, 4))\n",
    "    sns.heatmap(cm, annot=True, fmt='d', cmap='Blues', cbar=False,\n",
    "                xticklabels=['No Churn', 'Churn'], yticklabels=['No Churn', 'Churn'])\n",
    "    plt.title(f'Confusion Matrix for {model_name}')\n",
    "    plt.xlabel('Predicted')\n",
    "    plt.ylabel('Actual')\n",
    "    plt.show()"
   ]
  }
 ],
 "metadata": {
  "kernelspec": {
   "display_name": "Python [conda env:base] *",
   "language": "python",
   "name": "conda-base-py"
  },
  "language_info": {
   "codemirror_mode": {
    "name": "ipython",
    "version": 3
   },
   "file_extension": ".py",
   "mimetype": "text/x-python",
   "name": "python",
   "nbconvert_exporter": "python",
   "pygments_lexer": "ipython3",
   "version": "3.12.7"
  }
 },
 "nbformat": 4,
 "nbformat_minor": 5
}
